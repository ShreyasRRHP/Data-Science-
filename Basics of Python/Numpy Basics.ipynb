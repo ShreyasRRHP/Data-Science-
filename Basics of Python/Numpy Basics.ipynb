{
 "cells": [
  {
   "cell_type": "markdown",
   "id": "d1241abd-1252-4a1d-9060-8cc5e4130964",
   "metadata": {},
   "source": [
    "# Numpy Basics "
   ]
  },
  {
   "cell_type": "code",
   "execution_count": 2,
   "id": "89bc789e-2e90-43f6-937c-485f9f877b07",
   "metadata": {},
   "outputs": [],
   "source": [
    "import numpy as np "
   ]
  },
  {
   "cell_type": "markdown",
   "id": "6a1eedda-f0ef-4685-a01a-b22f1354c04e",
   "metadata": {
    "jp-MarkdownHeadingCollapsed": true
   },
   "source": [
    "## Basics "
   ]
  },
  {
   "cell_type": "code",
   "execution_count": 3,
   "id": "7e3ef137-a536-49e8-936c-96e58bf5e580",
   "metadata": {},
   "outputs": [
    {
     "name": "stdout",
     "output_type": "stream",
     "text": [
      "one dimentional array is \n",
      "[1 2 3 4 5]\n",
      "two dimentional array is \n",
      "[[ 1  2  3  4  5]\n",
      " [ 6  7  8  9 10]]\n",
      "three dimentional array is \n",
      "[[[ 1  2  3  4  5]\n",
      "  [ 6  7  8  9 10]\n",
      "  [11 12 13 14 15]]]\n"
     ]
    }
   ],
   "source": [
    "array = np.array([1,2,3,4,5])\n",
    "arraytwo = np.array([[1,2,3,4,5],[6,7,8,9,10]])\n",
    "arraythree = np.array([[[1,2,3,4,5],[6,7,8,9,10],[11,12,13,14,15]]])\n",
    "print(f'one dimentional array is \\n{array}')\n",
    "print(f'two dimentional array is \\n{arraytwo}')\n",
    "print(f'three dimentional array is \\n{arraythree}')"
   ]
  },
  {
   "cell_type": "markdown",
   "id": "35d8347a-ba85-4bad-b710-24e1d9f365ac",
   "metadata": {},
   "source": [
    "for data type "
   ]
  },
  {
   "cell_type": "code",
   "execution_count": 4,
   "id": "7d229cfe-5421-459d-8d6d-b8f8d5e78a97",
   "metadata": {},
   "outputs": [
    {
     "name": "stdout",
     "output_type": "stream",
     "text": [
      "int64\n"
     ]
    }
   ],
   "source": [
    "print(array.dtype)"
   ]
  },
  {
   "cell_type": "markdown",
   "id": "601ba8b1-9094-4f4a-953c-0ee4f983eb52",
   "metadata": {},
   "source": [
    "the shape and size of a array "
   ]
  },
  {
   "cell_type": "code",
   "execution_count": 5,
   "id": "b602c7be-5765-4a84-9d21-09421dde7974",
   "metadata": {},
   "outputs": [
    {
     "name": "stdout",
     "output_type": "stream",
     "text": [
      "(5,)\n",
      "(2, 5)\n",
      "(1, 3, 5)\n",
      "5\n",
      "10\n",
      "15\n"
     ]
    }
   ],
   "source": [
    "#Shape \n",
    "# one-dimensional array \n",
    "print(array.shape)\n",
    "# two-dimensional array \n",
    "print(arraytwo.shape)\n",
    "# three-dimensional array \n",
    "print(arraythree.shape)\n",
    "#Size\n",
    "# one-dimensional array \n",
    "print(array.size)\n",
    "# two-dimensional array \n",
    "print(arraytwo.size)\n",
    "# three-dimensional array \n",
    "print(arraythree.size)"
   ]
  },
  {
   "cell_type": "markdown",
   "id": "512e7af6-aa02-4a75-8138-d87372ffb431",
   "metadata": {},
   "source": [
    "transpose of the given matrix "
   ]
  },
  {
   "cell_type": "code",
   "execution_count": 6,
   "id": "a16ca8d1-a0b8-4e4b-b14f-e54eb82e8eca",
   "metadata": {},
   "outputs": [
    {
     "name": "stdout",
     "output_type": "stream",
     "text": [
      "[[ 1  2  3  4  5]\n",
      " [ 6  7  8  9 10]]\n",
      "(2, 5)\n",
      "[[ 1  6]\n",
      " [ 2  7]\n",
      " [ 3  8]\n",
      " [ 4  9]\n",
      " [ 5 10]]\n",
      "(5, 2)\n"
     ]
    }
   ],
   "source": [
    "#example for 2d array\n",
    "print(arraytwo)\n",
    "print(arraytwo.shape)\n",
    "#transpose function \n",
    "print(arraytwo.transpose())\n",
    "print(arraytwo.transpose().shape)"
   ]
  },
  {
   "cell_type": "markdown",
   "id": "6fa7b585-f4c8-4e77-ba3e-d29fd23d7046",
   "metadata": {
    "jp-MarkdownHeadingCollapsed": true
   },
   "source": [
    "## arange function creates a array with the specific gap np.range(start,end,gap)"
   ]
  },
  {
   "cell_type": "code",
   "execution_count": 7,
   "id": "b5de4ca9-1d33-4b97-a8c1-489e435615d9",
   "metadata": {},
   "outputs": [
    {
     "name": "stdout",
     "output_type": "stream",
     "text": [
      "19\n",
      "[ 1  2  3  4  5  6  7  8  9 10 11 12 13 14 15 16 17 18 19]\n"
     ]
    }
   ],
   "source": [
    "a = np.arange(1,20)\n",
    "print(a.size )\n",
    "print(a)"
   ]
  },
  {
   "cell_type": "markdown",
   "id": "38930cbd-ed2e-4e6e-b692-39978850016e",
   "metadata": {},
   "source": [
    "Reshape the given marix \n"
   ]
  },
  {
   "cell_type": "code",
   "execution_count": 8,
   "id": "fe24f656-ae53-49be-918e-7531e46bbc26",
   "metadata": {},
   "outputs": [
    {
     "name": "stdout",
     "output_type": "stream",
     "text": [
      "[ 0  2  4  6  8 10 12 14 16 18]\n",
      "10\n",
      "[[ 0  2]\n",
      " [ 4  6]\n",
      " [ 8 10]\n",
      " [12 14]\n",
      " [16 18]]\n"
     ]
    }
   ],
   "source": [
    "b = np.arange(0,20,2)\n",
    "print(b)\n",
    "print(b.size)\n",
    "c = b.reshape((5,2))\n",
    "print(c)"
   ]
  },
  {
   "cell_type": "markdown",
   "id": "64c2e1d3-b263-4060-b181-66868b90b86a",
   "metadata": {},
   "source": [
    "Flatten and ravel function converts a multidimensional array into a single dimension \n"
   ]
  },
  {
   "cell_type": "code",
   "execution_count": 9,
   "id": "f15f443f-98db-44a1-a966-88b9fd79b695",
   "metadata": {},
   "outputs": [
    {
     "name": "stdout",
     "output_type": "stream",
     "text": [
      "[[ 0  2]\n",
      " [ 4  6]\n",
      " [ 8 10]\n",
      " [12 14]\n",
      " [16 18]]\n",
      "[ 0  2  4  6  8 10 12 14 16 18]\n"
     ]
    }
   ],
   "source": [
    "d = c.flatten()\n",
    "print(c)\n",
    "print(d)"
   ]
  },
  {
   "cell_type": "code",
   "execution_count": 10,
   "id": "e6f37eb4-43fc-4014-aae2-38c2759d09de",
   "metadata": {},
   "outputs": [
    {
     "data": {
      "text/plain": [
       "array([ 0,  2,  4,  6,  8, 10, 12, 14, 16, 18, 20, 22, 24, 26, 28, 30, 32,\n",
       "       34, 36, 38, 40, 42, 44, 46, 48])"
      ]
     },
     "execution_count": 10,
     "metadata": {},
     "output_type": "execute_result"
    }
   ],
   "source": [
    "a = np.arange(0,50,2)\n",
    "a"
   ]
  },
  {
   "cell_type": "code",
   "execution_count": 11,
   "id": "ce712fe5-7b54-4ea2-85e3-c57efef59e08",
   "metadata": {},
   "outputs": [
    {
     "name": "stdout",
     "output_type": "stream",
     "text": [
      "[[ 0  2  4  6  8]\n",
      " [10 12 14 16 18]\n",
      " [20 22 24 26 28]\n",
      " [30 32 34 36 38]\n",
      " [40 42 44 46 48]]\n",
      "[ 0  2  4  6  8 10 12 14 16 18 20 22 24 26 28 30 32 34 36 38 40 42 44 46\n",
      " 48]\n"
     ]
    }
   ],
   "source": [
    "a = a.reshape((5,5))\n",
    "print(a)\n",
    "print(a.ravel())"
   ]
  },
  {
   "cell_type": "markdown",
   "id": "1a37d7f3-67e5-4ddd-b266-891cba491662",
   "metadata": {},
   "source": [
    "The difference between ravel and flatten is \n",
    "that ravel is only a reference view, and changes in the original will also affect the ravel function. It is faster than the other as it does not occupy memory space, \n",
    "fallten occupys memory as it creates a copy array with the chnages in the original does not effcet the new one "
   ]
  },
  {
   "cell_type": "markdown",
   "id": "16b5c423-9035-4fe4-a5e4-a18f1f34d245",
   "metadata": {
    "jp-MarkdownHeadingCollapsed": true
   },
   "source": [
    "## Slicing a arrray and operation \n"
   ]
  },
  {
   "cell_type": "code",
   "execution_count": 12,
   "id": "fc5ce4b0-e0f7-4451-9ae2-78c5a33e3b49",
   "metadata": {},
   "outputs": [
    {
     "name": "stdout",
     "output_type": "stream",
     "text": [
      "[[  0   2   4   6   8  10  12  14  16  18]\n",
      " [ 20  22  24  26  28  30  32  34  36  38]\n",
      " [ 40  42  44  46  48  50  52  54  56  58]\n",
      " [ 60  62  64  66  68  70  72  74  76  78]\n",
      " [ 80  82  84  86  88  90  92  94  96  98]\n",
      " [100 102 104 106 108 110 112 114 116 118]\n",
      " [120 122 124 126 128 130 132 134 136 138]\n",
      " [140 142 144 146 148 150 152 154 156 158]\n",
      " [160 162 164 166 168 170 172 174 176 178]\n",
      " [180 182 184 186 188 190 192 194 196 198]]\n"
     ]
    }
   ],
   "source": [
    "a = np.arange(0,200,2)\n",
    "a = a.reshape(10,10)\n",
    "print(a)"
   ]
  },
  {
   "cell_type": "code",
   "execution_count": 13,
   "id": "2ac2771d-c89f-4f5f-ac07-5c74339fc341",
   "metadata": {},
   "outputs": [
    {
     "data": {
      "text/plain": [
       "6"
      ]
     },
     "execution_count": 13,
     "metadata": {},
     "output_type": "execute_result"
    }
   ],
   "source": [
    "int(a[0,3])"
   ]
  },
  {
   "cell_type": "code",
   "execution_count": 14,
   "id": "97f78bbb-5e24-40e0-9182-18bd218eb16f",
   "metadata": {},
   "outputs": [
    {
     "name": "stdout",
     "output_type": "stream",
     "text": [
      "4\n"
     ]
    }
   ],
   "source": [
    "print(a[0,2])"
   ]
  },
  {
   "cell_type": "code",
   "execution_count": 15,
   "id": "3329a3fb-7dde-40ae-a6e1-dca61420bef9",
   "metadata": {},
   "outputs": [
    {
     "name": "stdout",
     "output_type": "stream",
     "text": [
      "[[ 0  2  4  6  8 10 12 14 16 18]\n",
      " [20 22 24 26 28 30 32 34 36 38]]\n"
     ]
    }
   ],
   "source": [
    "print(a[0:2])"
   ]
  },
  {
   "cell_type": "code",
   "execution_count": 16,
   "id": "7880779a-286d-4a48-a1bc-71d75eaee2b1",
   "metadata": {},
   "outputs": [
    {
     "name": "stdout",
     "output_type": "stream",
     "text": [
      "[  4  24  44  64  84 104 124 144 164 184]\n"
     ]
    }
   ],
   "source": [
    "print(a[0:,2])"
   ]
  },
  {
   "cell_type": "code",
   "execution_count": 17,
   "id": "a114b147-2b8c-43c6-bc34-ddad3d933d1d",
   "metadata": {},
   "outputs": [
    {
     "name": "stdout",
     "output_type": "stream",
     "text": [
      "[ 64  84 104 124 144 164 184]\n"
     ]
    }
   ],
   "source": [
    "print(a[3:,2])"
   ]
  },
  {
   "cell_type": "code",
   "execution_count": 18,
   "id": "e7d72767-43f8-49e9-b43e-89aebe0d70bc",
   "metadata": {},
   "outputs": [
    {
     "name": "stdout",
     "output_type": "stream",
     "text": [
      "[  2  22  42  62  82 102 122 142 162 182]\n"
     ]
    }
   ],
   "source": [
    "print(a[0:,1])"
   ]
  },
  {
   "cell_type": "code",
   "execution_count": 19,
   "id": "9653da9d-7057-4825-b277-8367e72327d9",
   "metadata": {},
   "outputs": [
    {
     "name": "stdout",
     "output_type": "stream",
     "text": [
      "[[48 50 52]\n",
      " [68 70 72]\n",
      " [88 90 92]]\n"
     ]
    }
   ],
   "source": [
    "print(a[2:5:,4:7])"
   ]
  },
  {
   "cell_type": "code",
   "execution_count": 20,
   "id": "fe74b330-8caf-480f-b65e-51e9c63c0ced",
   "metadata": {},
   "outputs": [
    {
     "name": "stdout",
     "output_type": "stream",
     "text": [
      "[[ 0  2  4  6  8]\n",
      " [20 22 24 26 28]\n",
      " [40 42 44 46 48]\n",
      " [60 62 64 66 68]\n",
      " [80 82 84 86 88]]\n"
     ]
    }
   ],
   "source": [
    "print(a[:5:,0:5])#q1"
   ]
  },
  {
   "cell_type": "code",
   "execution_count": 21,
   "id": "9aad2fee-7131-46cf-8fdc-4548a2d19107",
   "metadata": {},
   "outputs": [
    {
     "name": "stdout",
     "output_type": "stream",
     "text": [
      "[[10 12 14 16 18]\n",
      " [30 32 34 36 38]\n",
      " [50 52 54 56 58]\n",
      " [70 72 74 76 78]\n",
      " [90 92 94 96 98]]\n"
     ]
    }
   ],
   "source": [
    "print(a[:5:,5:])#q2"
   ]
  },
  {
   "cell_type": "code",
   "execution_count": 22,
   "id": "f1082977-131b-47de-889b-ecc89ee15ba6",
   "metadata": {},
   "outputs": [
    {
     "name": "stdout",
     "output_type": "stream",
     "text": [
      "[[100 102 104 106 108]\n",
      " [120 122 124 126 128]\n",
      " [140 142 144 146 148]\n",
      " [160 162 164 166 168]\n",
      " [180 182 184 186 188]]\n"
     ]
    }
   ],
   "source": [
    "print(a[5::,:5])#q3"
   ]
  },
  {
   "cell_type": "code",
   "execution_count": 23,
   "id": "f65075d1-4761-41e8-a628-077566457aff",
   "metadata": {},
   "outputs": [
    {
     "name": "stdout",
     "output_type": "stream",
     "text": [
      "[[110 112 114 116 118]\n",
      " [130 132 134 136 138]\n",
      " [150 152 154 156 158]\n",
      " [170 172 174 176 178]\n",
      " [190 192 194 196 198]]\n"
     ]
    }
   ],
   "source": [
    "print(a[5::,5:])#q4"
   ]
  },
  {
   "cell_type": "markdown",
   "id": "e023eda4-a595-4271-b065-d9add842ef52",
   "metadata": {
    "jp-MarkdownHeadingCollapsed": true
   },
   "source": [
    "## Basic math operations on the numpy \n"
   ]
  },
  {
   "cell_type": "code",
   "execution_count": 24,
   "id": "646dac16-a97e-47bd-b20b-b79f087d004f",
   "metadata": {},
   "outputs": [
    {
     "name": "stdout",
     "output_type": "stream",
     "text": [
      "[[ 0  1  2  3  4]\n",
      " [ 5  6  7  8  9]\n",
      " [10 11 12 13 14]\n",
      " [15 16 17 18 19]]\n",
      "[[20 21 22 23 24]\n",
      " [25 26 27 28 29]\n",
      " [30 31 32 33 34]\n",
      " [35 36 37 38 39]]\n"
     ]
    }
   ],
   "source": [
    "#set up of array \n",
    "\n",
    "a = np.arange(0,20).reshape(4,5)\n",
    "b = np.arange(20,40).reshape(4,5)\n",
    "print(a)\n",
    "print(b)"
   ]
  },
  {
   "cell_type": "code",
   "execution_count": 25,
   "id": "7a63826e-a228-4e34-bfbe-e47320127f16",
   "metadata": {},
   "outputs": [
    {
     "name": "stdout",
     "output_type": "stream",
     "text": [
      "[[20 22 24 26 28]\n",
      " [30 32 34 36 38]\n",
      " [40 42 44 46 48]\n",
      " [50 52 54 56 58]]\n",
      "[[-20 -20 -20 -20 -20]\n",
      " [-20 -20 -20 -20 -20]\n",
      " [-20 -20 -20 -20 -20]\n",
      " [-20 -20 -20 -20 -20]]\n",
      "[[  0  21  44  69  96]\n",
      " [125 156 189 224 261]\n",
      " [300 341 384 429 476]\n",
      " [525 576 629 684 741]]\n",
      "[[0.         0.04761905 0.09090909 0.13043478 0.16666667]\n",
      " [0.2        0.23076923 0.25925926 0.28571429 0.31034483]\n",
      " [0.33333333 0.35483871 0.375      0.39393939 0.41176471]\n",
      " [0.42857143 0.44444444 0.45945946 0.47368421 0.48717949]]\n"
     ]
    }
   ],
   "source": [
    "#addition and subraction \n",
    "print(a+b)\n",
    "print(a-b)\n",
    "#multiplication and division (note the multiplying and dividing is done by each index, so on index 0,2 of a and b are 2*22, which is 44; \n",
    "#on index 0,2 will be 44 and so on)\n",
    "print(a*b)\n",
    "print(a/b)"
   ]
  },
  {
   "cell_type": "code",
   "execution_count": 26,
   "id": "d6dcfe8c-6653-429a-bbe0-3204a499d4bf",
   "metadata": {},
   "outputs": [
    {
     "name": "stdout",
     "output_type": "stream",
     "text": [
      "[[20 22 24 26 28]\n",
      " [30 32 34 36 38]\n",
      " [40 42 44 46 48]\n",
      " [50 52 54 56 58]]\n",
      "[[-20 -20 -20 -20 -20]\n",
      " [-20 -20 -20 -20 -20]\n",
      " [-20 -20 -20 -20 -20]\n",
      " [-20 -20 -20 -20 -20]]\n",
      "[[  0  21  44  69  96]\n",
      " [125 156 189 224 261]\n",
      " [300 341 384 429 476]\n",
      " [525 576 629 684 741]]\n",
      "[[0.         0.04761905 0.09090909 0.13043478 0.16666667]\n",
      " [0.2        0.23076923 0.25925926 0.28571429 0.31034483]\n",
      " [0.33333333 0.35483871 0.375      0.39393939 0.41176471]\n",
      " [0.42857143 0.44444444 0.45945946 0.47368421 0.48717949]]\n"
     ]
    }
   ],
   "source": [
    "# The same can be done with the following method \n",
    "print(np.add(a,b))\n",
    "print(np.subtract(a,b))\n",
    "print(np.multiply(a,b))\n",
    "print(np.divide(a,b))"
   ]
  },
  {
   "cell_type": "markdown",
   "id": "9b3e4c92-25da-4fea-8576-c54594b5cc26",
   "metadata": {},
   "source": [
    "for matrix multiplication we will use @ fucntion but have to follow the rules of matrix multipication "
   ]
  },
  {
   "cell_type": "code",
   "execution_count": 27,
   "id": "410f5aff-29df-4dd6-bbad-37cc19d44352",
   "metadata": {},
   "outputs": [
    {
     "name": "stdout",
     "output_type": "stream",
     "text": [
      "(4, 5)\n",
      "(4, 5)\n",
      "(4, 5)\n",
      "(4, 5)\n",
      "[[ 230  280  330  380]\n",
      " [ 780  955 1130 1305]\n",
      " [1330 1630 1930 2230]\n",
      " [1880 2305 2730 3155]]\n",
      "[[ 230  280  330  380]\n",
      " [ 780  955 1130 1305]\n",
      " [1330 1630 1930 2230]\n",
      " [1880 2305 2730 3155]]\n"
     ]
    }
   ],
   "source": [
    "print(a.shape)\n",
    "print(b.shape)\n",
    "c = b.transpose()\n",
    "print(a.shape)\n",
    "print(b.shape)\n",
    "print(a@c)\n",
    "#another form is \n",
    "print(a.dot(c))"
   ]
  },
  {
   "cell_type": "code",
   "execution_count": 28,
   "id": "f8ec401e-b51d-4e9c-a836-895f5889e2e5",
   "metadata": {},
   "outputs": [
    {
     "name": "stdout",
     "output_type": "stream",
     "text": [
      "39\n",
      "20\n",
      "19\n",
      "0\n",
      "29.5\n",
      "5.766281297335398\n",
      "[[4.47213595 4.58257569 4.69041576 4.79583152 4.89897949]\n",
      " [5.         5.09901951 5.19615242 5.29150262 5.38516481]\n",
      " [5.47722558 5.56776436 5.65685425 5.74456265 5.83095189]\n",
      " [5.91607978 6.         6.08276253 6.164414   6.244998  ]]\n",
      "[[2.99573227 3.04452244 3.09104245 3.13549422 3.17805383]\n",
      " [3.21887582 3.25809654 3.29583687 3.33220451 3.36729583]\n",
      " [3.40119738 3.4339872  3.4657359  3.49650756 3.52636052]\n",
      " [3.55534806 3.58351894 3.61091791 3.63758616 3.66356165]]\n"
     ]
    }
   ],
   "source": [
    "#some common dimensions of a dataset such as \n",
    "print(b.max())#max value of dataset \n",
    "print(b.min())#min value of dataset\n",
    "print(b.argmax())#index value of the max\n",
    "print(b.argmin())#index value of the min \n",
    "print(np.mean(b))#mean of the values \n",
    "print(np.std(b))#standard diviation of the values \n",
    "print(np.sqrt(b))#gives the square root of the all the values \n",
    "print(np.log(b))#log of all values in a matrix "
   ]
  },
  {
   "cell_type": "code",
   "execution_count": 29,
   "id": "62df232c-9b5f-4562-87bd-7ce1c5c336a9",
   "metadata": {},
   "outputs": [
    {
     "name": "stdout",
     "output_type": "stream",
     "text": [
      "590\n",
      "(4, 5)\n",
      "[110 135 160 185]\n",
      "[110 114 118 122 126]\n"
     ]
    }
   ],
   "source": [
    "#summation based on the matrix row and values \n",
    "print(np.sum(b))\n",
    "print(b.shape)\n",
    "print(np.sum(b, axis = 1 ) )#sum of all values in a row \n",
    "print(np.sum(b, axis = 0 ) )#sum of all values in a coloum "
   ]
  },
  {
   "cell_type": "code",
   "execution_count": 30,
   "id": "eee6d8e4-414f-4f8d-9823-363eff93487e",
   "metadata": {},
   "outputs": [
    {
     "name": "stdout",
     "output_type": "stream",
     "text": [
      "[[  0   2   4   6   8  10  12  14  16  18]\n",
      " [ 20  22  24  26  28  30  32  34  36  38]\n",
      " [ 40  42  44  46  48  50  52  54  56  58]\n",
      " [ 60  62  64  66  68  70  72  74  76  78]\n",
      " [ 80  82  84  86  88  90  92  94  96  98]\n",
      " [100 102 104 106 108 110 112 114 116 118]\n",
      " [120 122 124 126 128 130 132 134 136 138]\n",
      " [140 142 144 146 148 150 152 154 156 158]\n",
      " [160 162 164 166 168 170 172 174 176 178]\n",
      " [180 182 184 186 188 190 192 194 196 198]]\n",
      "1100\n"
     ]
    }
   ],
   "source": [
    "a = np.arange(0,200,2)\n",
    "a = a.reshape(10,10)\n",
    "print(a)\n",
    "print(np.sum(a[:5:,0:5])) # sum of a specific part of the matric is given by "
   ]
  },
  {
   "cell_type": "code",
   "execution_count": 31,
   "id": "9080f6e9-3446-4862-919d-9f1cbd88d677",
   "metadata": {},
   "outputs": [
    {
     "name": "stdout",
     "output_type": "stream",
     "text": [
      "Sum of columns 3, 4, and 5: [220 230 240]\n",
      "Total sum of these columns: 690\n",
      "Sum of rows 3, 4, and 5 (element-wise): [180 186 192 198 204]\n",
      "Total sum of these rows: 960\n"
     ]
    }
   ],
   "source": [
    "a = np.array([[ 0,  2,  4,  6,  8],\n",
    "              [20, 22, 24, 26, 28],\n",
    "              [40, 42, 44, 46, 48],\n",
    "              [60, 62, 64, 66, 68],\n",
    "              [80, 82, 84, 86, 88]])\n",
    "\n",
    "# Sum of columns 3, 4, and 5 (indices 2, 3, 4)\n",
    "column_sum = np.sum(a[:, 2:5], axis=0)\n",
    "\n",
    "print(\"Sum of columns 3, 4, and 5:\", column_sum)\n",
    "print(\"Total sum of these columns:\", np.sum(column_sum))\n",
    "# Sum of rows 3, 4, and 5 (indices 2, 3, 4)\n",
    "row_sum = np.sum(a[2:5, :], axis=0)\n",
    "\n",
    "print(\"Sum of rows 3, 4, and 5 (element-wise):\", row_sum)\n",
    "print(\"Total sum of these rows:\", np.sum(row_sum))"
   ]
  },
  {
   "cell_type": "markdown",
   "id": "864640ad-9329-4b9d-bdd6-92bd2ea5a8c0",
   "metadata": {
    "jp-MarkdownHeadingCollapsed": true
   },
   "source": [
    "## Trignometric functions "
   ]
  },
  {
   "cell_type": "code",
   "execution_count": 32,
   "id": "93270476-9170-4020-96c6-01c0d0755dff",
   "metadata": {},
   "outputs": [],
   "source": [
    "import matplotlib.pyplot as plt \n",
    "plt.style.use('dark_background')"
   ]
  },
  {
   "cell_type": "code",
   "execution_count": 33,
   "id": "d1957708-f864-490a-989e-ea9f14344c67",
   "metadata": {},
   "outputs": [
    {
     "name": "stdout",
     "output_type": "stream",
     "text": [
      "3.141592653589793\n"
     ]
    }
   ],
   "source": [
    "print(np.pi)"
   ]
  },
  {
   "cell_type": "code",
   "execution_count": 34,
   "id": "bd810c8b-3375-4cab-a153-eae6fd55b471",
   "metadata": {},
   "outputs": [
    {
     "name": "stdout",
     "output_type": "stream",
     "text": [
      "0.0\n"
     ]
    }
   ],
   "source": [
    "rounded_value = np.round(np.sin(np.pi), decimals=15)#as the sin function uses the approximate value of pi the answer is near zero, not exactly zero\n",
    "print(rounded_value)\n"
   ]
  },
  {
   "cell_type": "code",
   "execution_count": 35,
   "id": "4dd0551c-ba5f-4c48-a786-96f87b7ce996",
   "metadata": {},
   "outputs": [
    {
     "data": {
      "text/plain": [
       "np.float64(1.633123935319537e+16)"
      ]
     },
     "execution_count": 35,
     "metadata": {},
     "output_type": "execute_result"
    }
   ],
   "source": [
    "np.tan(np.pi/2)"
   ]
  },
  {
   "cell_type": "code",
   "execution_count": 36,
   "id": "db662eb9-7cc4-45f5-821a-60f2bed23841",
   "metadata": {},
   "outputs": [
    {
     "data": {
      "text/plain": [
       "np.float64(0.0)"
      ]
     },
     "execution_count": 36,
     "metadata": {},
     "output_type": "execute_result"
    }
   ],
   "source": [
    "np.tan(0)"
   ]
  },
  {
   "cell_type": "markdown",
   "id": "7e11fa94-c3f6-4077-a3c2-0a9c1759c4a9",
   "metadata": {},
   "source": [
    "the value and the graph of the sin and cos function \n"
   ]
  },
  {
   "cell_type": "code",
   "execution_count": 37,
   "id": "977ff300-a2cd-472d-ae1e-d440cf52c528",
   "metadata": {},
   "outputs": [
    {
     "name": "stdout",
     "output_type": "stream",
     "text": [
      "[ 0.          0.09983342  0.19866933  0.29552021  0.38941834  0.47942554\n",
      "  0.56464247  0.64421769  0.71735609  0.78332691  0.84147098  0.89120736\n",
      "  0.93203909  0.96355819  0.98544973  0.99749499  0.9995736   0.99166481\n",
      "  0.97384763  0.94630009  0.90929743  0.86320937  0.8084964   0.74570521\n",
      "  0.67546318  0.59847214  0.51550137  0.42737988  0.33498815  0.23924933\n",
      "  0.14112001  0.04158066 -0.05837414 -0.15774569 -0.2555411  -0.35078323\n",
      " -0.44252044 -0.52983614 -0.61185789 -0.68776616 -0.7568025  -0.81827711\n",
      " -0.87157577 -0.91616594 -0.95160207 -0.97753012 -0.993691   -0.99992326\n",
      " -0.99616461 -0.98245261 -0.95892427 -0.92581468 -0.88345466 -0.83226744\n",
      " -0.77276449 -0.70554033 -0.63126664 -0.55068554 -0.46460218 -0.37387666\n",
      " -0.2794155  -0.1821625  -0.0830894 ]\n"
     ]
    }
   ],
   "source": [
    "x_sin = np.arange(0,2*np.pi, 0.1)\n",
    "y_sin_values = np.sin(x_sin)\n",
    "print(y_sin_values)"
   ]
  },
  {
   "cell_type": "code",
   "execution_count": 38,
   "id": "f871b232-4b3e-4b67-891c-a0ad0bc9a298",
   "metadata": {},
   "outputs": [
    {
     "data": {
      "image/png": "[encoded data removed]",
      "text/plain": [
       "<Figure size 600x600 with 1 Axes>"
      ]
     },
     "metadata": {},
     "output_type": "display_data"
    }
   ],
   "source": [
    "plt.figure(figsize = (6,6))\n",
    "plt.plot(x_sin,y_sin_values)\n",
    "plt.title(\"SIN CURVE\")\n",
    "plt.show()"
   ]
  },
  {
   "cell_type": "code",
   "execution_count": 39,
   "id": "3865648b-aabd-4851-9dd5-e46ac6abaf0d",
   "metadata": {},
   "outputs": [
    {
     "name": "stdout",
     "output_type": "stream",
     "text": [
      "[ 1.          0.99500417  0.98006658  0.95533649  0.92106099  0.87758256\n",
      "  0.82533561  0.76484219  0.69670671  0.62160997  0.54030231  0.45359612\n",
      "  0.36235775  0.26749883  0.16996714  0.0707372  -0.02919952 -0.12884449\n",
      " -0.22720209 -0.32328957 -0.41614684 -0.5048461  -0.58850112 -0.66627602\n",
      " -0.73739372 -0.80114362 -0.85688875 -0.90407214 -0.94222234 -0.97095817\n",
      " -0.9899925  -0.99913515 -0.99829478 -0.98747977 -0.96679819 -0.93645669\n",
      " -0.89675842 -0.84810003 -0.79096771 -0.7259323  -0.65364362 -0.57482395\n",
      " -0.49026082 -0.40079917 -0.30733287 -0.2107958  -0.11215253 -0.01238866\n",
      "  0.08749898  0.18651237  0.28366219  0.37797774  0.46851667  0.55437434\n",
      "  0.63469288  0.70866977  0.77556588  0.83471278  0.88551952  0.92747843\n",
      "  0.96017029  0.98326844  0.9965421 ]\n"
     ]
    },
    {
     "data": {
      "image/png": "[encoded data removed]",
      "text/plain": [
       "<Figure size 600x600 with 1 Axes>"
      ]
     },
     "metadata": {},
     "output_type": "display_data"
    }
   ],
   "source": [
    "x_cos = np.arange(0,2*np.pi, 0.1)\n",
    "y_cos_values = np.cos(x_cos)\n",
    "print(y_cos_values)\n",
    "plt.figure(figsize = (6,6))\n",
    "plt.plot(x_cos,y_cos_values)\n",
    "plt.title(\"COS CURVE\")\n",
    "plt.show()"
   ]
  },
  {
   "cell_type": "code",
   "execution_count": 40,
   "id": "5d8634b1-7291-4dfa-ac50-c886b7cda145",
   "metadata": {},
   "outputs": [
    {
     "name": "stdout",
     "output_type": "stream",
     "text": [
      "[ 0.00000000e+00  1.00334672e-01  2.02710036e-01  3.09336250e-01\n",
      "  4.22793219e-01  5.46302490e-01  6.84136808e-01  8.42288380e-01\n",
      "  1.02963856e+00  1.26015822e+00  1.55740772e+00  1.96475966e+00\n",
      "  2.57215162e+00  3.60210245e+00  5.79788372e+00  1.41014199e+01\n",
      " -3.42325327e+01 -7.69660214e+00 -4.28626167e+00 -2.92709751e+00\n",
      " -2.18503986e+00 -1.70984654e+00 -1.37382306e+00 -1.11921364e+00\n",
      " -9.16014290e-01 -7.47022297e-01 -6.01596613e-01 -4.72727629e-01\n",
      " -3.55529832e-01 -2.46405394e-01 -1.42546543e-01 -4.16166546e-02\n",
      "  5.84738545e-02  1.59745748e-01  2.64316901e-01  3.74585640e-01\n",
      "  4.93466730e-01  6.24733075e-01  7.73556091e-01  9.47424650e-01\n",
      "  1.15782128e+00  1.42352648e+00  1.77777977e+00  2.28584788e+00\n",
      "  3.09632378e+00  4.63733205e+00  8.86017490e+00  8.07127630e+01\n",
      " -1.13848707e+01 -5.26749307e+00 -3.38051501e+00 -2.44938942e+00\n",
      " -1.88564188e+00 -1.50127340e+00 -1.21754082e+00 -9.95584052e-01\n",
      " -8.13943284e-01 -6.59730572e-01 -5.24666222e-01 -4.03110900e-01\n",
      " -2.91006191e-01 -1.85262231e-01 -8.33777149e-02]\n"
     ]
    },
    {
     "data": {
      "image/png": "[encoded data removed]",
      "text/plain": [
       "<Figure size 600x600 with 1 Axes>"
      ]
     },
     "metadata": {},
     "output_type": "display_data"
    }
   ],
   "source": [
    "x_tan = np.arange(0,2*np.pi, 0.1)\n",
    "y_tan_values = np.tan(x_tan)\n",
    "print(y_tan_values)\n",
    "plt.figure(figsize = (6,6))\n",
    "plt.plot(x_tan,y_tan_values)\n",
    "plt.title(\"TAN CURVE\")\n",
    "plt.show()"
   ]
  },
  {
   "cell_type": "code",
   "execution_count": 41,
   "id": "d53bd05d-4ee4-40e3-9662-3eba3fcec0ef",
   "metadata": {},
   "outputs": [
    {
     "name": "stdout",
     "output_type": "stream",
     "text": [
      "[            inf  9.96664442e+00  4.93315488e+00  3.23272814e+00\n",
      "  2.36522242e+00  1.83048772e+00  1.46169595e+00  1.18724183e+00\n",
      "  9.71214601e-01  7.93551148e-01  6.42092616e-01  5.08968105e-01\n",
      "  3.88779569e-01  2.77615647e-01  1.72476726e-01  7.09148443e-02\n",
      " -2.92119782e-02 -1.29927464e-01 -2.33303535e-01 -3.41635355e-01\n",
      " -4.57657554e-01 -5.84847806e-01 -7.27895776e-01 -8.93484463e-01\n",
      " -1.09168603e+00 -1.33864813e+00 -1.66224340e+00 -2.11538302e+00\n",
      " -2.81270349e+00 -4.05835272e+00 -7.01525255e+00 -2.40288416e+01\n",
      "  1.71016604e+01  6.25994754e+00  3.78333734e+00  2.66961648e+00\n",
      "  2.02647907e+00  1.60068362e+00  1.29273108e+00  1.05549291e+00\n",
      "  8.63691154e-01  7.02480784e-01  5.62499368e-01  4.37474431e-01\n",
      "  3.22963640e-01  2.15641233e-01  1.12864589e-01  1.23896143e-02\n",
      " -8.78358684e-02 -1.89843629e-01 -2.95812916e-01 -4.08265012e-01\n",
      " -5.30323394e-01 -6.66101193e-01 -8.21327696e-01 -1.00443553e+00\n",
      " -1.22858683e+00 -1.51577029e+00 -1.90597366e+00 -2.48070692e+00\n",
      " -3.43635300e+00 -5.39775429e+00 -1.19936125e+01]\n"
     ]
    },
    {
     "name": "stderr",
     "output_type": "stream",
     "text": [
      "C:\\Users\\DELL\\AppData\\Local\\Temp\\ipykernel_2652\\1431885273.py:2: RuntimeWarning: divide by zero encountered in divide\n",
      "  y_cot_values =1/( np.tan(x_cot))\n"
     ]
    },
    {
     "data": {
      "image/png": "[encoded data removed]",
      "text/plain": [
       "<Figure size 600x600 with 1 Axes>"
      ]
     },
     "metadata": {},
     "output_type": "display_data"
    }
   ],
   "source": [
    "x_cot = np.arange(0,2*np.pi, 0.1)\n",
    "y_cot_values =1/( np.tan(x_cot))\n",
    "print(y_cot_values)\n",
    "plt.figure(figsize = (6,6))\n",
    "plt.plot(x_cot,y_cot_values)\n",
    "plt.title(\"COT CURVE\")\n",
    "plt.show()"
   ]
  },
  {
   "cell_type": "markdown",
   "id": "a52ee994-dc5d-4721-af95-9a0f1823003a",
   "metadata": {},
   "source": [
    "Subplot"
   ]
  },
  {
   "cell_type": "code",
   "execution_count": 42,
   "id": "ce3cf039-f32e-4551-9f99-daa98ce73b31",
   "metadata": {},
   "outputs": [
    {
     "data": {
      "image/png": "[encoded data removed]",
      "text/plain": [
       "<Figure size 600x600 with 4 Axes>"
      ]
     },
     "metadata": {},
     "output_type": "display_data"
    }
   ],
   "source": [
    "plt.figure(figsize = (6,6))\n",
    "plt.subplot(2,2,1)\n",
    "plt.plot(x_sin,y_sin_values, 'r--')\n",
    "plt.title('sin curve')\n",
    "\n",
    "plt.subplot(2,2,2)\n",
    "plt.plot(x_cos,y_cos_values, 'b--')\n",
    "plt.title('cos curve')\n",
    "\n",
    "plt.subplot(2,2,3)\n",
    "plt.plot(x_tan,y_tan_values, 'g--')\n",
    "plt.title('tan curve')\n",
    "\n",
    "plt.subplot(2,2,4)\n",
    "plt.plot(x_cot,y_cot_values, 'p--')\n",
    "plt.title('cot curve')\n",
    "\n",
    "plt.show()"
   ]
  },
  {
   "cell_type": "markdown",
   "id": "fcd902eb-1e59-4355-a376-23469ea32e39",
   "metadata": {
    "jp-MarkdownHeadingCollapsed": true
   },
   "source": [
    "## Randown value generation "
   ]
  },
  {
   "cell_type": "code",
   "execution_count": 43,
   "id": "9d3a72e7-5c95-44f4-aa12-d76929bdddd7",
   "metadata": {},
   "outputs": [
    {
     "name": "stdout",
     "output_type": "stream",
     "text": [
      "[0.8513073]\n"
     ]
    }
   ],
   "source": [
    "print(np.random.random(1))#arndom values "
   ]
  },
  {
   "cell_type": "code",
   "execution_count": 44,
   "id": "d59643c2-b368-44a3-a3e3-f099b20e27a9",
   "metadata": {},
   "outputs": [
    {
     "name": "stdout",
     "output_type": "stream",
     "text": [
      "[[0.52258207 0.71032033]\n",
      " [0.93264975 0.41464173]\n",
      " [0.31281156 0.54768414]]\n"
     ]
    }
   ],
   "source": [
    "print(np.random.random((3,2)))#random numbers between in 3*2 matrix "
   ]
  },
  {
   "cell_type": "code",
   "execution_count": 45,
   "id": "e7efb7dc-7d57-4ecf-9780-a53354cdf66d",
   "metadata": {},
   "outputs": [
    {
     "name": "stdout",
     "output_type": "stream",
     "text": [
      "5\n"
     ]
    }
   ],
   "source": [
    "print(np.random.randint(1,10))#arndom values between 1,10"
   ]
  },
  {
   "cell_type": "code",
   "execution_count": 46,
   "id": "51fc1592-337a-4c51-9d36-768e6bb71f97",
   "metadata": {},
   "outputs": [
    {
     "name": "stdout",
     "output_type": "stream",
     "text": [
      "[[3 9 8]\n",
      " [1 3 2]]\n"
     ]
    }
   ],
   "source": [
    "print(np.random.randint(1,10, (2,3)))#random numbers between 1,10 in 2*3 matrix "
   ]
  },
  {
   "cell_type": "code",
   "execution_count": 47,
   "id": "6b905051-b902-4031-b2de-05e114ed5d68",
   "metadata": {},
   "outputs": [
    {
     "name": "stdout",
     "output_type": "stream",
     "text": [
      "[[[1 1 1 5 8]\n",
      "  [4 2 6 9 9]\n",
      "  [9 7 3 9 1]]\n",
      "\n",
      " [[8 2 4 3 3]\n",
      "  [9 8 5 6 9]\n",
      "  [4 3 5 2 5]]]\n"
     ]
    }
   ],
   "source": [
    "print(np.random.randint(1,10, (2,3,5)))#random value in 2 matrixes with 3 rows and 5 coloums "
   ]
  },
  {
   "cell_type": "code",
   "execution_count": 48,
   "id": "de54c110-b788-4f34-bf25-3b02dd000600",
   "metadata": {},
   "outputs": [
    {
     "name": "stdout",
     "output_type": "stream",
     "text": [
      "[[0.6719804  0.82232445 0.6402772 ]\n",
      " [0.17897477 0.24398573 0.18090346]]\n"
     ]
    }
   ],
   "source": [
    "print(np.random.rand(2,3))#positive float values "
   ]
  },
  {
   "cell_type": "code",
   "execution_count": 49,
   "id": "2e0ba9eb-3847-4bcc-ba90-200e5d9bffc5",
   "metadata": {},
   "outputs": [
    {
     "name": "stdout",
     "output_type": "stream",
     "text": [
      "[[-0.2851009   2.06718682 -0.50301957]\n",
      " [ 1.15082039 -0.3231617   0.18314222]]\n"
     ]
    }
   ],
   "source": [
    "print(np.random.randn(2,3))#negative values "
   ]
  },
  {
   "cell_type": "code",
   "execution_count": 50,
   "id": "a3101929-a044-4c22-ba27-73fbbdef0ed0",
   "metadata": {},
   "outputs": [
    {
     "name": "stdout",
     "output_type": "stream",
     "text": [
      "[ 0  2  4  6  8 10 12 14 16 18]\n",
      "18\n"
     ]
    }
   ],
   "source": [
    "#random values in a given array \n",
    "ab = np.arange(0,20,2)\n",
    "print(ab)\n",
    "print(np.random.choice(ab))"
   ]
  },
  {
   "cell_type": "markdown",
   "id": "7f67dc2b-1320-4a96-9705-571a063d0b6f",
   "metadata": {
    "jp-MarkdownHeadingCollapsed": true
   },
   "source": [
    "## Charecter manipulation in numpy \n"
   ]
  },
  {
   "cell_type": "code",
   "execution_count": 51,
   "id": "c78978f6-2999-4008-bd21-60ff292638fd",
   "metadata": {},
   "outputs": [
    {
     "name": "stdout",
     "output_type": "stream",
     "text": [
      "Shreyas is my name i am an indian \n",
      "SHREYAS IS MY NAME\n",
      "shreyas is my name\n",
      "['Shreyas', 'is', 'my', 'name']\n",
      "['Shreyas is my ', 'name']\n",
      "Shreyas is my sirname\n"
     ]
    }
   ],
   "source": [
    "s1 = \"Shreyas is my name\"\n",
    "s2 = \" i am an indian \"\n",
    "print(np.char.add(s1,s2))#joines two strings \n",
    "print(np.char.upper(s1))#makes the charecter upper case \n",
    "print(np.char.lower(s1))#makes the charecters lower case\n",
    "print(np.char.split(s1))#splites the string where it has space \n",
    "s3 = \"Shreyas is my \\nname\"\n",
    "print(np.char.splitlines(s3))#splites the string where it has next line\n",
    "print(np.char.replace(s1, 'name' , 'sirname'))#replaces the original charecter with the given charecter"
   ]
  },
  {
   "cell_type": "code",
   "execution_count": null,
   "id": "557d3c6e-4ea4-4bd2-a737-37c3d2259a3a",
   "metadata": {},
   "outputs": [],
   "source": []
  }
 ],
 "metadata": {
  "kernelspec": {
   "display_name": "Python 3 (ipykernel)",
   "language": "python",
   "name": "python3"
  },
  "language_info": {
   "codemirror_mode": {
    "name": "ipython",
    "version": 3
   },
   "file_extension": ".py",
   "mimetype": "text/x-python",
   "name": "python",
   "nbconvert_exporter": "python",
   "pygments_lexer": "ipython3",
   "version": "3.13.3"
  }
 },
 "nbformat": 4,
 "nbformat_minor": 5
}
